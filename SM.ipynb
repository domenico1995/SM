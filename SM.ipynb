{
  "nbformat": 4,
  "nbformat_minor": 0,
  "metadata": {
    "colab": {
      "provenance": [],
      "mount_file_id": "https://github.com/domenico1995/SM/blob/main/SM.ipynb",
      "authorship_tag": "ABX9TyOTPXCUmXY2vtfOt5DJcam4",
      "include_colab_link": true
    },
    "kernelspec": {
      "name": "python3",
      "display_name": "Python 3"
    },
    "language_info": {
      "name": "python"
    }
  },
  "cells": [
    {
      "cell_type": "markdown",
      "metadata": {
        "id": "view-in-github",
        "colab_type": "text"
      },
      "source": [
        "<a href=\"https://colab.research.google.com/github/domenico1995/SM/blob/main/SM.ipynb\" target=\"_parent\"><img src=\"https://colab.research.google.com/assets/colab-badge.svg\" alt=\"Open In Colab\"/></a>"
      ]
    },
    {
      "cell_type": "code",
      "source": [
        "!pip install tensorflow_io"
      ],
      "metadata": {
        "colab": {
          "base_uri": "https://localhost:8080/"
        },
        "id": "3yfA49cvReI8",
        "outputId": "08d40d10-b0ec-4455-b0c9-2d7833b844b5"
      },
      "execution_count": null,
      "outputs": [
        {
          "output_type": "stream",
          "name": "stdout",
          "text": [
            "Collecting tensorflow_io\n",
            "  Downloading tensorflow_io-0.33.0-cp310-cp310-manylinux_2_12_x86_64.manylinux2010_x86_64.whl (28.6 MB)\n",
            "\u001b[2K     \u001b[90m━━━━━━━━━━━━━━━━━━━━━━━━━━━━━━━━━━━━━━━━\u001b[0m \u001b[32m28.6/28.6 MB\u001b[0m \u001b[31m73.3 MB/s\u001b[0m eta \u001b[36m0:00:00\u001b[0m\n",
            "\u001b[?25hRequirement already satisfied: tensorflow-io-gcs-filesystem==0.33.0 in /usr/local/lib/python3.10/dist-packages (from tensorflow_io) (0.33.0)\n",
            "Installing collected packages: tensorflow_io\n",
            "Successfully installed tensorflow_io-0.33.0\n"
          ]
        }
      ]
    },
    {
      "cell_type": "code",
      "execution_count": null,
      "metadata": {
        "colab": {
          "base_uri": "https://localhost:8080/"
        },
        "id": "Wlfwg4veRVAJ",
        "outputId": "24df5dc3-dda7-43fb-9e07-9827547099ae"
      },
      "outputs": [
        {
          "output_type": "execute_result",
          "data": {
            "text/plain": [
              "array([[[ 1.0000000e+02, -2.4437904e-03,  4.6491623e-03],\n",
              "        [ 1.0000000e+02, -2.4437904e-03,  4.6491623e-03],\n",
              "        [ 1.0000000e+02, -2.4437904e-03,  4.6491623e-03],\n",
              "        ...,\n",
              "        [ 1.0000000e+02, -2.4437904e-03,  4.6491623e-03],\n",
              "        [ 1.0000000e+02, -2.4437904e-03,  4.6491623e-03],\n",
              "        [ 1.0000000e+02, -2.4437904e-03,  4.6491623e-03]],\n",
              "\n",
              "       [[ 1.0000000e+02, -2.4437904e-03,  4.6491623e-03],\n",
              "        [ 1.0000000e+02, -2.4437904e-03,  4.6491623e-03],\n",
              "        [ 1.0000000e+02, -2.4437904e-03,  4.6491623e-03],\n",
              "        ...,\n",
              "        [ 1.0000000e+02, -2.4437904e-03,  4.6491623e-03],\n",
              "        [ 1.0000000e+02, -2.4437904e-03,  4.6491623e-03],\n",
              "        [ 1.0000000e+02, -2.4437904e-03,  4.6491623e-03]],\n",
              "\n",
              "       [[ 1.0000000e+02, -2.4437904e-03,  4.6491623e-03],\n",
              "        [ 1.0000000e+02, -2.4437904e-03,  4.6491623e-03],\n",
              "        [ 1.0000000e+02, -2.4437904e-03,  4.6491623e-03],\n",
              "        ...,\n",
              "        [ 1.0000000e+02, -2.4437904e-03,  4.6491623e-03],\n",
              "        [ 1.0000000e+02, -2.4437904e-03,  4.6491623e-03],\n",
              "        [ 1.0000000e+02, -2.4437904e-03,  4.6491623e-03]],\n",
              "\n",
              "       ...,\n",
              "\n",
              "       [[ 1.0000000e+02, -2.4437904e-03,  4.6491623e-03],\n",
              "        [ 1.0000000e+02, -2.4437904e-03,  4.6491623e-03],\n",
              "        [ 1.0000000e+02, -2.4437904e-03,  4.6491623e-03],\n",
              "        ...,\n",
              "        [ 1.0000000e+02, -2.4437904e-03,  4.6491623e-03],\n",
              "        [ 1.0000000e+02, -2.4437904e-03,  4.6491623e-03],\n",
              "        [ 1.0000000e+02, -2.4437904e-03,  4.6491623e-03]],\n",
              "\n",
              "       [[ 1.0000000e+02, -2.4437904e-03,  4.6491623e-03],\n",
              "        [ 1.0000000e+02, -2.4437904e-03,  4.6491623e-03],\n",
              "        [ 1.0000000e+02, -2.4437904e-03,  4.6491623e-03],\n",
              "        ...,\n",
              "        [ 1.0000000e+02, -2.4437904e-03,  4.6491623e-03],\n",
              "        [ 1.0000000e+02, -2.4437904e-03,  4.6491623e-03],\n",
              "        [ 1.0000000e+02, -2.4437904e-03,  4.6491623e-03]],\n",
              "\n",
              "       [[ 1.0000000e+02, -2.4437904e-03,  4.6491623e-03],\n",
              "        [ 1.0000000e+02, -2.4437904e-03,  4.6491623e-03],\n",
              "        [ 1.0000000e+02, -2.4437904e-03,  4.6491623e-03],\n",
              "        ...,\n",
              "        [ 1.0000000e+02, -2.4437904e-03,  4.6491623e-03],\n",
              "        [ 1.0000000e+02, -2.4437904e-03,  4.6491623e-03],\n",
              "        [ 1.0000000e+02, -2.4437904e-03,  4.6491623e-03]]], dtype=float32)"
            ]
          },
          "metadata": {},
          "execution_count": 4
        }
      ],
      "source": [
        "import tensorflow as tf\n",
        "import tensorflow_io as tfio\n",
        "\n",
        "img = tf.io.read_file(tf.keras.utils.get_file(\"tf\", \"https://upload.wikimedia.org/wikipedia/commons/e/e5/TensorFlow_Logo_with_text.png\"))\n",
        "img = tf.image.decode_png(img, channels=3)\n",
        "img = tf.image.convert_image_dtype(img, dtype=tf.float32)\n",
        "img = tf.image.resize(img, [512, 512])\n",
        "lab = tfio.experimental.color.rgb_to_lab(img)\n",
        "\n",
        "lab = lab.numpy()"
      ]
    }
  ]
}