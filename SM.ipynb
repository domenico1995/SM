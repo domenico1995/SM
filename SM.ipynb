{
  "nbformat": 4,
  "nbformat_minor": 0,
  "metadata": {
    "colab": {
      "provenance": [],
      "mount_file_id": "https://github.com/domenico1995/SM/blob/main/SM.ipynb",
      "authorship_tag": "ABX9TyO8WXI9ydsvbT5+x+Agiegx",
      "include_colab_link": true
    },
    "kernelspec": {
      "name": "python3",
      "display_name": "Python 3"
    },
    "language_info": {
      "name": "python"
    }
  },
  "cells": [
    {
      "cell_type": "markdown",
      "metadata": {
        "id": "view-in-github",
        "colab_type": "text"
      },
      "source": [
        "<a href=\"https://colab.research.google.com/github/domenico1995/SM/blob/main/SM.ipynb\" target=\"_parent\"><img src=\"https://colab.research.google.com/assets/colab-badge.svg\" alt=\"Open In Colab\"/></a>"
      ]
    },
    {
      "cell_type": "code",
      "source": [
        "!pip install tensorflow_io"
      ],
      "metadata": {
        "colab": {
          "base_uri": "https://localhost:8080/"
        },
        "id": "3yfA49cvReI8",
        "outputId": "15aace96-7741-4f8f-8807-03ac9fc1be85"
      },
      "execution_count": 179,
      "outputs": [
        {
          "output_type": "stream",
          "name": "stdout",
          "text": [
            "Requirement already satisfied: tensorflow_io in /usr/local/lib/python3.10/dist-packages (0.34.0)\n",
            "Requirement already satisfied: tensorflow-io-gcs-filesystem==0.34.0 in /usr/local/lib/python3.10/dist-packages (from tensorflow_io) (0.34.0)\n"
          ]
        }
      ]
    },
    {
      "cell_type": "code",
      "execution_count": 180,
      "metadata": {
        "id": "Wlfwg4veRVAJ"
      },
      "outputs": [],
      "source": [
        "import tensorflow as tf\n",
        "import tensorflow_io as tfio\n",
        "\n",
        "img = tf.io.read_file(tf.keras.utils.get_file(\"tf\", \"https://upload.wikimedia.org/wikipedia/commons/e/e5/TensorFlow_Logo_with_text.png\"))\n",
        "img = tf.image.decode_png(img, channels=3)\n",
        "img = tf.image.convert_image_dtype(img, dtype=tf.float32)\n",
        "img = tf.image.resize(img, [512, 512])\n",
        "lab = tfio.experimental.color.rgb_to_lab(img)\n",
        "\n",
        "lab = lab.numpy()"
      ]
    },
    {
      "cell_type": "code",
      "source": [
        "import os\n",
        "import pandas as pd\n",
        "\n",
        "\n",
        "# directory/folder path\n",
        "dir_path = r'/content/drive/MyDrive/database_sclere/database_sclere'\n",
        "dir_path_dataset_indiano =r'/content/drive/MyDrive/database_sclere/database_sclere/Dataset indiano'\n",
        "dir_path_dataset_italiano =r''\n",
        "\n",
        "data = pd.DataFrame()\n",
        "\n",
        "for file_path in os.listdir(dir_path):\n",
        "    if os.path.isfile(os.path.join(dir_path, file_path)):\n",
        "        data = pd.read_csv(os.path.join(dir_path, file_path))\n",
        "\n",
        "data.columns = ['dati']\n",
        "data.iloc[0]"
      ],
      "metadata": {
        "colab": {
          "base_uri": "https://localhost:8080/"
        },
        "id": "x2V5wCZhbnPg",
        "outputId": "145be795-d3fb-474f-dbd4-a86eefc01bb2"
      },
      "execution_count": 181,
      "outputs": [
        {
          "output_type": "execute_result",
          "data": {
            "text/plain": [
              "dati    1;Caterina Antonacci;F;40;1979;;\n",
              "Name: ita;T_1;92317;92247;14, dtype: object"
            ]
          },
          "metadata": {},
          "execution_count": 181
        }
      ]
    },
    {
      "cell_type": "code",
      "source": [
        "dataset_italiano = pd.DataFrame()\n",
        "dataset_italiano.columns = []\n",
        "d1 = []\n",
        "d2 = []\n",
        "d3 = []\n",
        "d4 = []\n",
        "d5 = []\n",
        "d6 = []"
      ],
      "metadata": {
        "id": "mKtd7W1mo4hi"
      },
      "execution_count": 182,
      "outputs": []
    },
    {
      "cell_type": "code",
      "source": [
        "for i in range(0, data.size, 1):\n",
        "  string = data.index[i]\n",
        "  s =string.split(\";\")\n",
        "  if s[0] == \"ita\":\n",
        "    string1 = data.iloc[i]\n",
        "    s1 = string1.str.split(\";\")\n",
        "    print(s1[0])\n",
        "    d1.append(s[0])\n",
        "    d2.append(s[1])\n",
        "    d3.append(s[2])\n",
        "    d4.append(s[3])\n",
        "    d5.append(s[4])"
      ],
      "metadata": {
        "colab": {
          "base_uri": "https://localhost:8080/"
        },
        "id": "JgJJEU1RPzxq",
        "outputId": "afe7884a-88e3-45ff-bf4d-c20c3fb414b4"
      },
      "execution_count": 195,
      "outputs": [
        {
          "output_type": "stream",
          "name": "stdout",
          "text": [
            "['1', 'Caterina Antonacci', 'F', '40', '1979', '', '']\n",
            "['9', 'Maria Campobasso', 'F', '34', '1985', '', '']\n",
            "['1', 'Vitangelo Lops', 'M', '53', '1966', '', '']\n",
            "['7', 'Maro Mahdal', 'M', '36', '1983', '', '']\n",
            "['9', 'Giuseppe Rosario Barile', 'M', '51', '1968', '', '']\n",
            "['6', 'Silvana Santomauro', 'F', '51', '1968', '', '']\n",
            "['4', 'Antonio Capuano', 'M', '56', '1963', '0', '']\n",
            "['7', 'Fabrizio Serviddio', 'M', '47', '1972', '1', '']\n",
            "['3', 'Annalisa Mangiulli', 'F', '46', '1973', '', '']\n",
            "['9', 'Diana Sabato', 'F', '36', '1983', '', '']\n",
            "nan\n",
            "['7', 'Vito Cavone', 'M', '59', '1960', '0', '']\n",
            "['4', 'Pierpaolo Novembrini', 'M', '26', '1993', '', '']\n",
            "['9', 'Domenico Morisco', 'M', '50', '1969', '', '']\n",
            "['1', 'Flavio Del Vecchio', 'M', '58', '1961', '1', '']\n",
            "['1', 'Mattia Peragine', 'M', '20', '1999', '', '']\n",
            "['1', 'Donato Bozzi', 'M', '29', '1990', '', '']\n",
            "['1', 'Giuseppe Minafra', 'M', '33', '1986', '', '']\n",
            "['3', 'Palma Tricarico', 'F', '40', '1979', '', '']\n",
            "['9', 'Massimo Maggiore', 'M', '54', '1965', '', '']\n",
            "['4', 'Monica Rizzi', 'F', '24', '1995', '', '']\n",
            "['1', 'Gaetano Schingaro', 'M', '43', '1976', '0', '']\n",
            "['3', 'Roberto Cannone', 'M', '42', '1977', '', '']\n",
            "['9', 'Massimiliano Giustizieri', 'M', '34', '1985', '', '']\n",
            "['2', 'Alessia Giotta', 'F', '24', '1995', '', '']\n",
            "['5', 'Carmela Lopez', 'F', '51', '1968', '', '']\n",
            "nan\n",
            "['5', 'Raffaele Lavecchia', 'M', '62', '1957', '', '']\n",
            "['6', 'Mauro Cristiano Milano', 'M', '41', '1978', '', '']\n",
            "nan\n",
            "nan\n",
            "['9', 'Rocco Causo', 'M', '54', '1965', '', '']\n",
            "['4', 'Ambrogio Riaso', 'M', '52', '1967', '', '']\n",
            "['8', 'Nicola Pellegrino', 'M', '63', '1956', '', '']\n",
            "['9', 'Vincenzo Tavani', 'M', '55', '1964', '', '']\n",
            "['2', 'Angelo Scanniffio', 'M', '48', '1971', '0', '']\n",
            "['5', 'Giovanni Passiatore', 'M', '55', '1964', '0', '']\n",
            "['1', 'Angelo Giovanni Papa', 'M', '51', '1968', '', '']\n",
            "['3', 'Vito Proscia', 'M', '37', '1982', '', '']\n",
            "['7', 'Gianluca Zaza', 'M', '20', '1999', '', '']\n",
            "['4', 'Roberto Nacci', 'M', '48', '1971', '', '']\n",
            "['3', 'Patrizia Bazzi', 'F', '56', '1963', '1', '']\n",
            "['9', 'Antonio Cal?', 'M', '48', '1971', '0', '']\n",
            "['5', 'Nadia Lucente', 'F', '48', '1971', '', '']\n",
            "['7', 'Nicoletta Colonna', 'F', '48', '1971', '', '']\n",
            "['8', 'Giuseppe Ferrara', 'M', '60', '1959', '0', '']\n",
            "['4', 'Fabio Marchionna', 'M', '25', '1994', '', '']\n",
            "['7', 'Pietro Nugnes', 'M', '31', '1988', '', '']\n",
            "['5', 'Claudia Laura Nuzzo', 'F', '40', '1979', '', '']\n",
            "['6', 'Giovanni Corcelli', 'M', '64', '1955', '', '']\n",
            "['8', 'Fabio Cito', 'M', '24', '1995', '', '']\n",
            "['8', 'Antongiulio Prete', 'M', '25', '1994', '0', '']\n",
            "['9', 'Giuseppe Massimiliano Stefanelli', 'M', '46', '1973', '0', '']\n",
            "['4', 'Maria Simeone', 'F', '42', '1977', '1', '']\n",
            "['9', 'Pierfrancesco Landriscina', 'M', '48', '1971', '', '']\n",
            "['6', 'Domenico Milella', 'M', '51', '1968', '', '']\n",
            "['7', 'Santa Magrone', 'F', '38', '1981', '', '']\n",
            "['4', 'Antonio Bellomo', 'M', '44', '1975', '0', '']\n",
            "nan\n",
            "['4', 'Roberto Gesuita', 'M', '41', '1978', '0', '']\n",
            "['3', 'Felicia Trizio', 'F', '52', '1967', '', '']\n",
            "['2', 'Antonio Turitto', 'M', '34', '1985', '0', '']\n",
            "['8', 'Andrea Franchini', 'M', '31', '1988', '', '']\n",
            "['7', 'Antonio De Virgilis', 'M', '45', '1974', '', '']\n",
            "['1', 'Antonio Scardicchio', 'M', '49', '1970', '', '']\n",
            "['2', 'Giovanni Sassanelli', 'M', '54', '1965', '1', '']\n",
            "['5', 'Mario Ventura', 'M', '44', '1975', '', '']\n",
            "['5', 'Antonia Ruggieri', 'F', '63', '1956', '', '']\n",
            "nan\n",
            "['8', 'Rocco Muscillo', 'M', '40', '1979', '', '']\n",
            "['1', 'Michele Rinaldi', 'M', '59', '1960', '', '']\n",
            "['5', 'Alessandro Calabrese', 'M', '45', '1974', '', '']\n",
            "nan\n",
            "['5', 'Luigi Nicola Barbaro', 'M', '68', '1951', '', '']\n",
            "nan\n",
            "['5', 'Giovanni Maglietta', 'M', '21', '1998', '', '']\n",
            "['7', 'Domenico Perrini', 'M', '59', '1960', '', '']\n",
            "['8', 'Maurizio Marcolivio', 'M', '45', '1974', '', '']\n",
            "['1', 'Davide Sciannimanico', 'M', '37', '1982', '', '']\n",
            "['4', 'Davide Semeraro', 'M', '57', '1962', '', '']\n",
            "nan\n",
            "['1', 'Antonio Evangelista', 'M', '39', '1980', '', '']\n",
            "['4', 'Antonio Boccardo', 'M', '43', '1976', '', '']\n",
            "['7', 'Mauro Digennaro', 'M', '28', '1991', '', '']\n",
            "['1', 'Francesco Amodio', 'M', '47', '1972', '', '']\n",
            "['2', 'Pino Calamaro', 'M', '48', '1971', '', '']\n",
            "['7', 'Giovanni Timpanaro', 'M', '41', '1978', '', '']\n",
            "['4', 'Andrea Monalis', 'M', '22', '1997', '', '']\n",
            "['8', 'Maddalena Di Lauro', 'F', '40', '1979', '', '']\n",
            "['7', 'Stefano Lastilla', 'M', '33', '1986', '', '']\n",
            "['6', 'Gaetano Damascelli', 'M', '48', '1971', '', '']\n"
          ]
        }
      ]
    },
    {
      "cell_type": "code",
      "source": [
        "dataset_italiano.insert(loc=0, column='Dataset', value=d1)\n",
        "dataset_italiano.insert(loc=0, column='Paziente', value=d2)\n",
        "dataset_italiano.insert(loc=0, column='Foto1', value=d3)\n",
        "dataset_italiano.insert(loc=0, column='Foto2', value=d4)\n",
        "dataset_italiano.insert(loc=0, column='Hb', value=d5)"
      ],
      "metadata": {
        "id": "_0hJ13vbtUfF"
      },
      "execution_count": 184,
      "outputs": []
    },
    {
      "cell_type": "code",
      "source": [
        "dataset_indiano = pd.DataFrame()\n",
        "dataset_indiano.columns = []\n",
        "d1 = []\n",
        "d2 = []\n",
        "d3 = []\n",
        "d4 = []\n",
        "d5 = []"
      ],
      "metadata": {
        "id": "Iko1eEoxsjgv"
      },
      "execution_count": 185,
      "outputs": []
    },
    {
      "cell_type": "code",
      "source": [
        "for i in range(0, data.size, 1):\n",
        "  string = data.index[i]\n",
        "  s =data.index[i].split(\";\")\n",
        "  if s[0] == \"ind\":\n",
        "    d1.append(s[0])\n",
        "    d2.append(s[1])\n",
        "    d3.append(s[2])\n",
        "    d4.append(s[3])\n",
        "    d5.append(s[4])\n",
        "dataset_indiano.insert(loc=0, column='Dataset', value=d1)\n",
        "dataset_indiano.insert(loc=0, column='Paziente', value=d2)\n",
        "dataset_indiano.insert(loc=0, column='Foto1', value=d3)\n",
        "dataset_indiano.insert(loc=0, column='Foto2', value=d4)\n",
        "dataset_indiano.insert(loc=0, column='Hb', value=d5)"
      ],
      "metadata": {
        "id": "zEIUPCbhsuDF"
      },
      "execution_count": 186,
      "outputs": []
    }
  ]
}